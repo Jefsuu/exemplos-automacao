{
 "cells": [
  {
   "cell_type": "code",
   "execution_count": 39,
   "metadata": {},
   "outputs": [],
   "source": [
    "#importando bibliotecas\n",
    "#biblioteca para converter word em txt\n",
    "import docx2txt\n",
    "#selenium para realizar interações com o navegador/paginas web\n",
    "from selenium import webdriver\n",
    "#sleep para fazer o código esperar determinado tempo\n",
    "from time import sleep\n",
    "#modulos adicionais do selenium para operações especificas\n",
    "#By para selecionar elementos de acordo com o valor\n",
    "from selenium.webdriver.common.by import By\n",
    "#Keys para enviar teclas para o navegador\n",
    "from selenium.webdriver.common.keys import Keys\n",
    "#WebDriverWait para fazer o código esperar algum evento do navegador\n",
    "from selenium.webdriver.support.ui import WebDriverWait\n",
    "#expected_conditions para determinar o evento esperado\n",
    "from selenium.webdriver.support import expected_conditions as EC\n",
    "\n",
    "#função para fazer o código esperar até que determinado elemento apareça no site\n",
    "def wait(xpath):\n",
    "    element = WebDriverWait(driver, 10).until(EC.presence_of_element_located((By.XPATH, xpath)))\n",
    "\n",
    "    return element"
   ]
  },
  {
   "cell_type": "code",
   "execution_count": 14,
   "metadata": {},
   "outputs": [],
   "source": [
    "#abrindo o arquivo word e convertendo para txt\n",
    "file = docx2txt.process(r\"C:\\Users\\Jeferson\\OneDrive - InovaLGPD\\Documentos\\BPMN_Vila Sao Bento Cottolengo.docx\")"
   ]
  },
  {
   "cell_type": "code",
   "execution_count": 15,
   "metadata": {},
   "outputs": [],
   "source": [
    "#trecho de código que lê as marcações feitas no arquivo acima e separa as informaçõe como desejado e adiciona em um dict\n",
    "processo = {}\n",
    "for i in file.split('##'):\n",
    "    try:\n",
    "        processo[i.split('Atividade')[0].strip().split(':')[1].strip()] = {'Descrição':i.split('Atividade')[0].split(':')[2].strip(),\n",
    "         'Atividade':{'Nome':[a.split(':')[1:][0].strip() for a in i.split('Atividade')[1:]],\n",
    "          'Descrição':[a.split(':')[1:][1].strip() for a in i.split('Atividade')[1:]]}}\n",
    "    except: \n",
    "        None\n",
    "\n"
   ]
  },
  {
   "cell_type": "code",
   "execution_count": 2,
   "metadata": {},
   "outputs": [],
   "source": [
    "#abrindo o navegador\n",
    "driver = webdriver.Chrome()\n",
    "#entrando no site de login\n",
    "driver.get('www.login.com')\n",
    "#sleep pois as vezes o site demora a responder\n",
    "sleep(5)\n",
    "#encontando o campo de e-mail no site\n",
    "email = driver.find_element(By.XPATH, value='//*[@id=\"email\"]')\n",
    "email.clear()\n",
    "#enviando credenciais de login\n",
    "email.send_keys('jeferson.ribeiro@email.com.br')\n",
    "sleep(0.5)\n",
    "senha = driver.find_element(By.XPATH, value='//*[@id=\"password\"]')\n",
    "senha.clear()\n",
    "senha.send_keys('Senha@Senha')\n",
    "sleep(0.5)\n",
    "#enviando comando que o navegador interpreta como o botão ENTER\n",
    "senha.send_keys(Keys.RETURN)"
   ]
  },
  {
   "cell_type": "code",
   "execution_count": 49,
   "metadata": {},
   "outputs": [],
   "source": [
    "#criando um for que executa o preenchimento dos campos repetitivamente\n",
    "for i in list(processo.keys()):\n",
    "    #pegando as informações do dicionario criado anteriormente e inserindo cada uma em seu determinado campo\n",
    "    for a, d in zip(processo[i]['Atividade']['Nome'],processo[i]['Atividade']['Descrição']):\n",
    "        #esperando o elemento aparecer na tela\n",
    "        wait('//*[@id=\"main_view\"]/div[2]/div/div[2]').click()\n",
    "        wait('//*[@id=\"name\"]')\n",
    "        #as vezes o elemento é reconhecido mas ainda não está funcional, isso ocorre em sites com desempenho ruim, por isso coloquei\n",
    "        #para esperar mais 3 segundos\n",
    "        sleep(3)\n",
    "        #econtrando o elemento a ser preenchido\n",
    "        nome = driver.find_element(by=By.XPATH, value='//*[@id=\"name\"]')\n",
    "        #enviando as informações para o navegador\n",
    "        nome.send_keys(a.upper())\n",
    "        if d == \"NaN\":\n",
    "            desc = driver.find_element(by=By.XPATH, value='//*[@id=\"description\"]')\n",
    "            desc.send_keys(a.capitalize())\n",
    "        else:\n",
    "            desc = driver.find_element(by=By.XPATH, value='//*[@id=\"description\"]')\n",
    "            desc.send_keys(d.capitalize())\n",
    "        macro = driver.find_element(By.XPATH, value='//*[@id=\"department\"]/div[1]/input')\n",
    "        macro.send_keys(i)\n",
    "        sleep(1)\n",
    "        macro.send_keys(Keys.RETURN)\n",
    "        macro.send_keys(Keys.RETURN)\n",
    "\n",
    "        #salvando as informações inseridas\n",
    "        wait('//*[@id=\"form_validation\"]/div[2]/div[3]/div').click()\n",
    "        #depois disso o código repete o processo para as demais informações\n",
    "        "
   ]
  }
 ],
 "metadata": {
  "interpreter": {
   "hash": "46fe1a3320cc6a0058c26b13a934cde76427d38b6274e3f8cfd49254486a8c60"
  },
  "kernelspec": {
   "display_name": "Python 3.10.0 64-bit",
   "language": "python",
   "name": "python3"
  },
  "language_info": {
   "codemirror_mode": {
    "name": "ipython",
    "version": 3
   },
   "file_extension": ".py",
   "mimetype": "text/x-python",
   "name": "python",
   "nbconvert_exporter": "python",
   "pygments_lexer": "ipython3",
   "version": "3.10.0"
  },
  "orig_nbformat": 4
 },
 "nbformat": 4,
 "nbformat_minor": 2
}
